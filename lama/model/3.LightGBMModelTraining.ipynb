{
 "cells": [
  {
   "cell_type": "markdown",
   "metadata": {},
   "source": [
    "# Training with LighGBM\n",
    "\n",
    "LightGBM is a gradient boosting framework that uses tree based learning algorithms,  which has following merits to orthodox decision tree model.(e.g. random forest)\n",
    "\n",
    "\n",
    "\n",
    "- Faster training speed and higher efficiency.\n",
    "- Lower memory usage.\n",
    "- Better accuracy.\n",
    "- Support of parallel, distributed, and GPU learning.\n",
    "- Capable of handling large-scale data.\n",
    "\n",
    "We will first implements a naive lightGBM model then use the technics from above. Hoping it achieves better than random-forest."
   ]
  },
  {
   "cell_type": "code",
   "execution_count": 24,
   "metadata": {},
   "outputs": [],
   "source": [
    "import os\n",
    "import logging\n",
    "import json\n",
    "\n",
    "import lightgbm as lgb\n",
    "import numpy as np\n",
    "import pandas as pd\n",
    "\n",
    "\n",
    "from sklearn.model_selection import KFold\n",
    "from sklearn.metrics import mean_squared_error\n",
    "\n",
    "from data import DATA_DIR\n",
    "from lama.util.decorators import enable_logging\n",
    "\n",
    "logger = logging.getLogger()\n",
    "\n",
    "OUT_DIR = os.path.join(DATA_DIR, \"pre\")\n",
    "RESULT_DIR = os.path.join(DATA_DIR, \"result\")\n"
   ]
  },
  {
   "cell_type": "code",
   "execution_count": 25,
   "metadata": {},
   "outputs": [],
   "source": [
    "train = pd.read_csv(os.path.join(OUT_DIR, \"train_groupby.csv\"))\n",
    "test = pd.read_csv(os.path.join(OUT_DIR, \"test_groupby.csv\"))\n",
    "\n",
    "features = train.columns.tolist()\n",
    "features.remove(\"target\")\n",
    "features.remove(\"card_id\")\n",
    "label = 'target'"
   ]
  },
  {
   "cell_type": "code",
   "execution_count": 26,
   "metadata": {},
   "outputs": [],
   "source": [
    "# parameters see <a href=\"https://lightgbm.readthedocs.io/en/latest/Parameters.html\" />\n",
    "# randomly picked parameters\n",
    "param_init = {\n",
    "    'num_leaves': 31,\n",
    "    'learning_rate': 0.3,\n",
    "    'min_child_samples': 20,\n",
    "    'bagging_seed': 2022,\n",
    "    'bagging_fraction': 0.7,\n",
    "    # to enable bagging, bagging_freq should be set to a non zero value as well\n",
    "    'bagging_freq': 1,\n",
    "    'metric': 'rmse',\n",
    "    'lambda_l1': 0.2,\n",
    "    'lambda_l2': 1.0,\n",
    "    'objective': 'regression'\n",
    "}\n",
    "\n",
    "# early-stopping-round\n",
    "ESR = 30\n",
    "# num boost round\n",
    "NBR = 1000\n",
    "# verbose evalutaion\n",
    "VBE = 50\n"
   ]
  },
  {
   "cell_type": "code",
   "execution_count": 29,
   "metadata": {},
   "outputs": [],
   "source": [
    "eval_results= {}\n",
    "\n",
    "n_split=5\n",
    "\n",
    "def dump(model, filename):\n",
    "    with open(os.path.join(RESULT_DIR, filename), 'w') as file:\n",
    "        file.write(json.dumps(model))\n",
    "\n",
    "@enable_logging(\"perform_lgb_kfold.log\")\n",
    "def perform_lgb_kfold(train, test, features, label, n_splits=5, random_state=22):\n",
    "    kf = KFold(n_splits=n_splits, random_state=random_state, shuffle=True)\n",
    "    prediction_test = 0\n",
    "    logger.info(\"Start Loop\")\n",
    "    for i, (train_index, validation_index) in enumerate(kf.split(train[features])):\n",
    "        train_lgb = lgb.Dataset(train[features].loc[train_index],\n",
    "                                train[label].loc[train_index])\n",
    "        validation_lgb = lgb.Dataset(train[features].loc[validation_index],\n",
    "                                     train[label].loc[validation_index])\n",
    "        bst = lgb.train(param_init, train_lgb,\n",
    "                        valid_sets=[train_lgb, validation_lgb],\n",
    "                        valid_names=['train', 'valid'],\n",
    "                        callbacks=[lgb.early_stopping(ESR),\n",
    "                                   lgb.log_evaluation(VBE),\n",
    "                                   lgb.record_evaluation(eval_results)],\n",
    "                        num_boost_round=NBR)\n",
    "        dump(bst.dump_model(i), f\"lightGBM_{i}.json\")\n",
    "        prediction_test += bst.predict(test[features])\n",
    "    return prediction_test"
   ]
  },
  {
   "cell_type": "code",
   "execution_count": 32,
   "metadata": {},
   "outputs": [
    {
     "name": "stdout",
     "output_type": "stream",
     "text": [
      "[LightGBM] [Warning] Auto-choosing row-wise multi-threading, the overhead of testing was 0.015676 seconds.\n",
      "You can set `force_row_wise=true` to remove the overhead.\n",
      "And if memory is not enough, you can set `force_col_wise=true`.\n",
      "[LightGBM] [Info] Total Bins 22838\n",
      "[LightGBM] [Info] Number of data points in the train set: 159768, number of used features: 148\n",
      "[LightGBM] [Info] Start training from score -0.028512\n",
      "Training until validation scores don't improve for 30 rounds\n",
      "Early stopping, best iteration is:\n",
      "[19]\ttrain's rmse: 1.57653\tvalid's rmse: 1.60552\n",
      "[LightGBM] [Warning] Auto-choosing row-wise multi-threading, the overhead of testing was 0.015784 seconds.\n",
      "You can set `force_row_wise=true` to remove the overhead.\n",
      "And if memory is not enough, you can set `force_col_wise=true`.\n",
      "[LightGBM] [Info] Total Bins 22848\n",
      "[LightGBM] [Info] Number of data points in the train set: 159768, number of used features: 148\n",
      "[LightGBM] [Info] Start training from score -0.029306\n",
      "Training until validation scores don't improve for 30 rounds\n",
      "[50]\ttrain's rmse: 1.53906\tvalid's rmse: 1.60735\n",
      "Early stopping, best iteration is:\n",
      "[23]\ttrain's rmse: 1.57095\tvalid's rmse: 1.60373\n",
      "[LightGBM] [Warning] Auto-choosing row-wise multi-threading, the overhead of testing was 0.020674 seconds.\n",
      "You can set `force_row_wise=true` to remove the overhead.\n",
      "And if memory is not enough, you can set `force_col_wise=true`.\n",
      "[LightGBM] [Info] Total Bins 22831\n",
      "[LightGBM] [Info] Number of data points in the train set: 159768, number of used features: 148\n",
      "[LightGBM] [Info] Start training from score -0.031163\n",
      "Training until validation scores don't improve for 30 rounds\n",
      "[50]\ttrain's rmse: 1.53828\tvalid's rmse: 1.61286\n",
      "Early stopping, best iteration is:\n",
      "[30]\ttrain's rmse: 1.55974\tvalid's rmse: 1.61042\n",
      "[LightGBM] [Warning] Auto-choosing row-wise multi-threading, the overhead of testing was 0.015643 seconds.\n",
      "You can set `force_row_wise=true` to remove the overhead.\n",
      "And if memory is not enough, you can set `force_col_wise=true`.\n",
      "[LightGBM] [Info] Total Bins 22839\n",
      "[LightGBM] [Info] Number of data points in the train set: 159768, number of used features: 148\n",
      "[LightGBM] [Info] Start training from score -0.035700\n",
      "Training until validation scores don't improve for 30 rounds\n",
      "[50]\ttrain's rmse: 1.54419\tvalid's rmse: 1.59618\n",
      "Early stopping, best iteration is:\n",
      "[26]\ttrain's rmse: 1.57032\tvalid's rmse: 1.59131\n",
      "[LightGBM] [Warning] Auto-choosing row-wise multi-threading, the overhead of testing was 0.021562 seconds.\n",
      "You can set `force_row_wise=true` to remove the overhead.\n",
      "And if memory is not enough, you can set `force_col_wise=true`.\n",
      "[LightGBM] [Info] Total Bins 22846\n",
      "[LightGBM] [Info] Number of data points in the train set: 159768, number of used features: 148\n",
      "[LightGBM] [Info] Start training from score -0.029715\n",
      "Training until validation scores don't improve for 30 rounds\n",
      "[50]\ttrain's rmse: 1.54264\tvalid's rmse: 1.60289\n",
      "Early stopping, best iteration is:\n",
      "[32]\ttrain's rmse: 1.5613\tvalid's rmse: 1.59962\n"
     ]
    }
   ],
   "source": [
    "prediction_test = perform_lgb_kfold(train, test, features, label)\n",
    "test['target'] = prediction_test / n_split\n",
    "test[['card_id', 'target']].to_csv(os.path.join(OUT_DIR, \"light_gbm_pre.csv\"), index=False)\n"
   ]
  }
 ],
 "metadata": {
  "interpreter": {
   "hash": "ccbb4ca7fe902b23c4d3bf398cc69bd54ad114cdf2cf797081a3177c4f0863aa"
  },
  "kernelspec": {
   "display_name": "Python 3.9.9 ('lama_gpu')",
   "language": "python",
   "name": "python3"
  },
  "language_info": {
   "codemirror_mode": {
    "name": "ipython",
    "version": 3
   },
   "file_extension": ".py",
   "mimetype": "text/x-python",
   "name": "python",
   "nbconvert_exporter": "python",
   "pygments_lexer": "ipython3",
   "version": "3.9.9"
  },
  "orig_nbformat": 4
 },
 "nbformat": 4,
 "nbformat_minor": 2
}
