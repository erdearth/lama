{
 "cells": [
  {
   "cell_type": "markdown",
   "metadata": {},
   "source": [
    "# Part2: Model Training"
   ]
  },
  {
   "cell_type": "markdown",
   "metadata": {},
   "source": [
    "<h3>2.1 Baseline Model </h3>\n",
    "\n",
    "We first make a random forset model as a baseline model"
   ]
  },
  {
   "cell_type": "code",
   "execution_count": 24,
   "metadata": {},
   "outputs": [],
   "source": [
    "import pandas as pd\n",
    "import numpy as np\n",
    "import os\n",
    "import matplotlib.pyplot as plt\n",
    "from typing import *\n",
    "import logging\n",
    "from data import DATA_DIR\n",
    "from lama.preprocessing.DataProcessor import nans, reformat_dataframe\n",
    "\n",
    "logger = logging.getLogger()\n",
    "PRE_DIR = os.path.join(DATA_DIR, \"pre\")"
   ]
  },
  {
   "cell_type": "markdown",
   "metadata": {},
   "source": [
    "We do not need card id anynore since we don't have to merge tables"
   ]
  },
  {
   "cell_type": "code",
   "execution_count": 3,
   "metadata": {},
   "outputs": [],
   "source": [
    "train = pd.read_csv(os.path.join(PRE_DIR, \"train_groupby.csv\"))\n",
    "test = pd.read_csv(os.path.join(PRE_DIR, \"test_groupby.csv\"))\n",
    "\n",
    "features = train.columns.tolist()\n",
    "features.remove('target')\n",
    "features.remove('card_id')\n"
   ]
  },
  {
   "cell_type": "code",
   "execution_count": 4,
   "metadata": {},
   "outputs": [],
   "source": [
    "from sklearn.ensemble import RandomForestRegressor\n",
    "from sklearn.model_selection import GridSearchCV"
   ]
  },
  {
   "cell_type": "code",
   "execution_count": 5,
   "metadata": {},
   "outputs": [],
   "source": [
    "# Used to find best parameter do not invoke\n",
    "# PARAMETER_SPACE = {\n",
    "#     \"n_estimators\": range(100),\n",
    "#     \"min_samples_leaf\": range(50),\n",
    "#     \"min_samples_split\": range(10),\n",
    "#     \"max_depth\": range(20),\n",
    "#     \"max_features\": [\"auto\", 80]\n",
    "# }"
   ]
  },
  {
   "cell_type": "code",
   "execution_count": 6,
   "metadata": {},
   "outputs": [],
   "source": [
    "# clf = RandomForestRegressor(criterion='squared_error', n_jobs=16, random_state=42)\n",
    "# grid = GridSearchCV(clf, PARAMETER_SPACE, cv=2, scoring='neg_mean_squared_error')\n",
    "# print(train['target'].values)\n",
    "# grid.fit(train[features].values, train['target'].values)"
   ]
  },
  {
   "cell_type": "code",
   "execution_count": 7,
   "metadata": {},
   "outputs": [],
   "source": [
    "# grid.best_params_"
   ]
  },
  {
   "cell_type": "code",
   "execution_count": 8,
   "metadata": {},
   "outputs": [],
   "source": [
    "# best_score = np.sqrt(-grid.best_score_)\n",
    "# _result = \\\n",
    "# {\n",
    "#     \"model\": \"RandomForestRegressor\",\n",
    "#     \"best_params\": grid.best_params_,\n",
    "#     \"best_score\": best_score,\n",
    "# }\n"
   ]
  },
  {
   "cell_type": "code",
   "execution_count": 9,
   "metadata": {},
   "outputs": [],
   "source": [
    "# test['target'] = grid.best_estimator_.predict(test[features])"
   ]
  },
  {
   "cell_type": "code",
   "execution_count": 10,
   "metadata": {},
   "outputs": [],
   "source": [
    "# import json\n",
    "#\n",
    "# RESULT_DIR = os.path.join(DATA_DIR, \"result\")\n",
    "# test[['card_id', 'target']].to_csv(os.path.join(RESULT_DIR, \"submission_random_forest_1.csv\"), index=False)\n",
    "# with open(os.path.join(RESULT_DIR, \"hyperparameters\"), \"a\") as file:\n",
    "#     file.write(json.dumps(_result) + \"\\n\")"
   ]
  },
  {
   "cell_type": "markdown",
   "metadata": {},
   "source": [
    "After submit our first baseline model into kagggle, we get the result.\n",
    "\n",
    "<img src=\"../../assets/img/Screenshot_1.png\" />"
   ]
  },
  {
   "cell_type": "markdown",
   "metadata": {},
   "source": [
    "We can see that this result is not very performing. So we will try out other model or make hyperparameter optimizations based on this result."
   ]
  },
  {
   "cell_type": "markdown",
   "metadata": {},
   "source": [
    "<h3>2.2 Baseline Model </h3>\n",
    "\n",
    "Now we try to build the model the second time, by implementing PCA and other filter model, we will run our random forest model a second time, hoping it achieve a better performance"
   ]
  },
  {
   "cell_type": "markdown",
   "source": [
    "### Performing a feature selection on all features"
   ],
   "metadata": {
    "collapsed": false
   }
  },
  {
   "cell_type": "code",
   "execution_count": 11,
   "outputs": [
    {
     "data": {
      "text/plain": "   first_active_month  feature_1  feature_2  feature_3  \\\n0                  67          5          2          1   \n1                  62          4          1          0   \n2                  57          2          2          0   \n3                  70          4          3          0   \n4                  72          1          3          0   \n\n   month_lag_nunique_hist_x  month_lag_mean_hist_x  month_lag_min_hist_x  \\\n0                         8              -4.291139                    -8   \n1                        12              -5.889632                   -12   \n2                        11              -8.809524                   -13   \n3                         5              -3.573770                    -5   \n4                         3              -1.744898                    -3   \n\n   month_lag_max_hist_x  month_lag_var_hist_x  month_lag_skew_hist_x  ...  \\\n0                    -1              4.673353               0.053360  ...   \n1                    -1             11.883751              -0.175152  ...   \n2                    -1             13.279907               0.712599  ...   \n3                    -1              1.415301               0.948636  ...   \n4                    -1              0.624974              -0.490374  ...   \n\n   category_3_nunique  category_1_nunique  merchant_category_id_nunique  \\\n0                   2                   1                            46   \n1                   3                   2                            58   \n2                   1                   1                             9   \n3                   3                   2                            28   \n4                   3                   2                            37   \n\n   subsector_id_nunique  merchant_id_nunique  city_id_nunique  \\\n0                    21                  117                9   \n1                    24                  148                9   \n2                     8                   14                5   \n3                    15                   57                7   \n4                    19                  102                7   \n\n   state_id_nunique  category_2_nunique  most_recent_sales_range_nunique  \\\n0                 3                   2                                5   \n1                 3                   2                                5   \n2                 2                   2                                4   \n3                 5                   3                                5   \n4                 7                   5                                5   \n\n   most_recent_purchases_range_nunique  \n0                                    5  \n1                                    5  \n2                                    5  \n3                                    5  \n4                                    5  \n\n[5 rows x 148 columns]",
      "text/html": "<div>\n<style scoped>\n    .dataframe tbody tr th:only-of-type {\n        vertical-align: middle;\n    }\n\n    .dataframe tbody tr th {\n        vertical-align: top;\n    }\n\n    .dataframe thead th {\n        text-align: right;\n    }\n</style>\n<table border=\"1\" class=\"dataframe\">\n  <thead>\n    <tr style=\"text-align: right;\">\n      <th></th>\n      <th>first_active_month</th>\n      <th>feature_1</th>\n      <th>feature_2</th>\n      <th>feature_3</th>\n      <th>month_lag_nunique_hist_x</th>\n      <th>month_lag_mean_hist_x</th>\n      <th>month_lag_min_hist_x</th>\n      <th>month_lag_max_hist_x</th>\n      <th>month_lag_var_hist_x</th>\n      <th>month_lag_skew_hist_x</th>\n      <th>...</th>\n      <th>category_3_nunique</th>\n      <th>category_1_nunique</th>\n      <th>merchant_category_id_nunique</th>\n      <th>subsector_id_nunique</th>\n      <th>merchant_id_nunique</th>\n      <th>city_id_nunique</th>\n      <th>state_id_nunique</th>\n      <th>category_2_nunique</th>\n      <th>most_recent_sales_range_nunique</th>\n      <th>most_recent_purchases_range_nunique</th>\n    </tr>\n  </thead>\n  <tbody>\n    <tr>\n      <th>0</th>\n      <td>67</td>\n      <td>5</td>\n      <td>2</td>\n      <td>1</td>\n      <td>8</td>\n      <td>-4.291139</td>\n      <td>-8</td>\n      <td>-1</td>\n      <td>4.673353</td>\n      <td>0.053360</td>\n      <td>...</td>\n      <td>2</td>\n      <td>1</td>\n      <td>46</td>\n      <td>21</td>\n      <td>117</td>\n      <td>9</td>\n      <td>3</td>\n      <td>2</td>\n      <td>5</td>\n      <td>5</td>\n    </tr>\n    <tr>\n      <th>1</th>\n      <td>62</td>\n      <td>4</td>\n      <td>1</td>\n      <td>0</td>\n      <td>12</td>\n      <td>-5.889632</td>\n      <td>-12</td>\n      <td>-1</td>\n      <td>11.883751</td>\n      <td>-0.175152</td>\n      <td>...</td>\n      <td>3</td>\n      <td>2</td>\n      <td>58</td>\n      <td>24</td>\n      <td>148</td>\n      <td>9</td>\n      <td>3</td>\n      <td>2</td>\n      <td>5</td>\n      <td>5</td>\n    </tr>\n    <tr>\n      <th>2</th>\n      <td>57</td>\n      <td>2</td>\n      <td>2</td>\n      <td>0</td>\n      <td>11</td>\n      <td>-8.809524</td>\n      <td>-13</td>\n      <td>-1</td>\n      <td>13.279907</td>\n      <td>0.712599</td>\n      <td>...</td>\n      <td>1</td>\n      <td>1</td>\n      <td>9</td>\n      <td>8</td>\n      <td>14</td>\n      <td>5</td>\n      <td>2</td>\n      <td>2</td>\n      <td>4</td>\n      <td>5</td>\n    </tr>\n    <tr>\n      <th>3</th>\n      <td>70</td>\n      <td>4</td>\n      <td>3</td>\n      <td>0</td>\n      <td>5</td>\n      <td>-3.573770</td>\n      <td>-5</td>\n      <td>-1</td>\n      <td>1.415301</td>\n      <td>0.948636</td>\n      <td>...</td>\n      <td>3</td>\n      <td>2</td>\n      <td>28</td>\n      <td>15</td>\n      <td>57</td>\n      <td>7</td>\n      <td>5</td>\n      <td>3</td>\n      <td>5</td>\n      <td>5</td>\n    </tr>\n    <tr>\n      <th>4</th>\n      <td>72</td>\n      <td>1</td>\n      <td>3</td>\n      <td>0</td>\n      <td>3</td>\n      <td>-1.744898</td>\n      <td>-3</td>\n      <td>-1</td>\n      <td>0.624974</td>\n      <td>-0.490374</td>\n      <td>...</td>\n      <td>3</td>\n      <td>2</td>\n      <td>37</td>\n      <td>19</td>\n      <td>102</td>\n      <td>7</td>\n      <td>7</td>\n      <td>5</td>\n      <td>5</td>\n      <td>5</td>\n    </tr>\n  </tbody>\n</table>\n<p>5 rows × 148 columns</p>\n</div>"
     },
     "execution_count": 11,
     "metadata": {},
     "output_type": "execute_result"
    }
   ],
   "source": [
    "X_train = train[features]\n",
    "X_train.head()"
   ],
   "metadata": {
    "collapsed": false,
    "pycharm": {
     "name": "#%%\n"
    }
   }
  },
  {
   "cell_type": "code",
   "execution_count": 69,
   "outputs": [
    {
     "name": "stdout",
     "output_type": "stream",
     "text": [
      "Feature first_active_month with pearson correlcation: 0.005224044791546985\n",
      "Feature feature_1 with pearson correlcation: -0.010884238458633405\n",
      "Feature feature_2 with pearson correlcation: -0.003606531136815961\n",
      "Feature feature_3 with pearson correlcation: -0.007330298118724083\n",
      "Feature month_lag_nunique_hist_x with pearson correlcation: 0.008782863062287089\n",
      "Feature month_lag_mean_hist_x with pearson correlcation: -0.038338172765549475\n",
      "Feature month_lag_min_hist_x with pearson correlcation: -0.028035212700470862\n",
      "Feature month_lag_max_hist_x with pearson correlcation: -0.031797733173404084\n",
      "Feature month_lag_var_hist_x with pearson correlcation: 0.020122198307935886\n",
      "Feature month_lag_skew_hist_x with pearson correlcation: 0.01851368587257077\n",
      "Feature month_lag_sum_hist_x with pearson correlcation: 0.01734761203057366\n",
      "Feature installments_nunique_hist_x with pearson correlcation: 0.009186063201157288\n",
      "Feature installments_mean_hist_x with pearson correlcation: 0.02528167068876249\n",
      "Feature installments_min_hist_x with pearson correlcation: -0.0032832816271960575\n",
      "Feature installments_max_hist_x with pearson correlcation: 0.013174162574504444\n",
      "Feature installments_var_hist_x with pearson correlcation: 0.023876356875117508\n",
      "Feature installments_skew_hist_x with pearson correlcation: -0.022549502727860694\n",
      "Feature installments_sum_hist_x with pearson correlcation: -0.010939218902732117\n",
      "Feature purchase_amount_nunique_hist_x with pearson correlcation: -0.034459357510949626\n",
      "Feature purchase_amount_mean_hist_x with pearson correlcation: 0.00017181771449203384\n",
      "Feature purchase_amount_min_hist_x with pearson correlcation: 0.009483028128220206\n",
      "Feature purchase_amount_max_hist_x with pearson correlcation: 0.00018300268318297504\n",
      "Feature purchase_amount_var_hist_x with pearson correlcation: 0.00013539700886300095\n",
      "Feature purchase_amount_skew_hist_x with pearson correlcation: -0.024450849688437425\n",
      "Feature purchase_amount_sum_hist_x with pearson correlcation: 0.00033824003080494915\n",
      "Feature numerical_1_nunique_hist_x with pearson correlcation: -0.037502771217564804\n",
      "Feature numerical_1_mean_hist_x with pearson correlcation: -0.008681964377209821\n",
      "Feature numerical_1_min_hist_x with pearson correlcation: 0.0032169318115128106\n",
      "Feature numerical_1_max_hist_x with pearson correlcation: -0.024412282404616722\n",
      "Feature numerical_1_var_hist_x with pearson correlcation: -0.009206404353263026\n",
      "Feature numerical_1_skew_hist_x with pearson correlcation: -0.0196831870770761\n",
      "Feature numerical_1_sum_hist_x with pearson correlcation: -0.0184433085794664\n",
      "Feature numerical_2_nunique_hist_x with pearson correlcation: -0.03822986429429388\n",
      "Feature numerical_2_mean_hist_x with pearson correlcation: -0.008666914343134631\n",
      "Feature numerical_2_min_hist_x with pearson correlcation: 0.003237623330162037\n",
      "Feature numerical_2_max_hist_x with pearson correlcation: -0.024430409522354708\n",
      "Feature numerical_2_var_hist_x with pearson correlcation: -0.009217872989704584\n",
      "Feature numerical_2_skew_hist_x with pearson correlcation: -0.018306112503655964\n",
      "Feature numerical_2_sum_hist_x with pearson correlcation: -0.01838962053560285\n",
      "Feature card_id_size_hist_x with pearson correlcation: -0.03385532512348633\n",
      "Feature card_id_count_hist_x with pearson correlcation: -0.03385532512348633\n",
      "Feature authorized_flag_nunique_hist_x with pearson correlcation: -0.014735786711705397\n",
      "Feature category_3_nunique_hist_x with pearson correlcation: 0.005047790357421236\n",
      "Feature category_1_nunique_hist_x with pearson correlcation: -0.002679007483901436\n",
      "Feature merchant_category_id_nunique_hist_x with pearson correlcation: -0.03591388269390037\n",
      "Feature subsector_id_nunique_hist_x with pearson correlcation: -0.03702248506405741\n",
      "Feature merchant_id_nunique_hist_x with pearson correlcation: -0.034756123415986315\n",
      "Feature city_id_nunique_hist_x with pearson correlcation: -0.023648151641067195\n",
      "Feature state_id_nunique_hist_x with pearson correlcation: -0.012661126392517841\n",
      "Feature category_2_nunique_hist_x with pearson correlcation: -0.007882600479150932\n",
      "Feature most_recent_sales_range_nunique_hist_x with pearson correlcation: -0.028776712389512925\n",
      "Feature most_recent_purchases_range_nunique_hist_x with pearson correlcation: -0.028599174689334386\n",
      "Feature month_lag_nunique_hist_y with pearson correlcation: -0.20045792209666582\n",
      "Feature month_lag_mean_hist_y with pearson correlcation: -0.08526124438940186\n",
      "Feature month_lag_min_hist_y with pearson correlcation: 0.04152269307087689\n",
      "Feature month_lag_max_hist_y with pearson correlcation: -0.16499989058379416\n",
      "Feature month_lag_var_hist_y with pearson correlcation: -0.032921829496687004\n",
      "Feature month_lag_skew_hist_y with pearson correlcation: 0.05894572163519895\n",
      "Feature month_lag_sum_hist_y with pearson correlcation: -0.16907399714864596\n",
      "Feature installments_nunique_hist_y with pearson correlcation: -0.07173560481780183\n",
      "Feature installments_mean_hist_y with pearson correlcation: -0.006466894180596332\n",
      "Feature installments_min_hist_y with pearson correlcation: 0.05221038975440536\n",
      "Feature installments_max_hist_y with pearson correlcation: -0.059848420777685075\n",
      "Feature installments_var_hist_y with pearson correlcation: -0.03112161700236793\n",
      "Feature installments_skew_hist_y with pearson correlcation: -0.03678646066301172\n",
      "Feature installments_sum_hist_y with pearson correlcation: -0.060497430322112515\n",
      "Feature purchase_amount_nunique_hist_y with pearson correlcation: -0.13215643039956304\n",
      "Feature purchase_amount_mean_hist_y with pearson correlcation: -0.0038511022570378124\n",
      "Feature purchase_amount_min_hist_y with pearson correlcation: -0.004406147285906501\n",
      "Feature purchase_amount_max_hist_y with pearson correlcation: -0.002382371420866439\n",
      "Feature purchase_amount_var_hist_y with pearson correlcation: -0.00121411080992827\n",
      "Feature purchase_amount_skew_hist_y with pearson correlcation: -0.10644823048074331\n",
      "Feature purchase_amount_sum_hist_y with pearson correlcation: 0.00040409260072847683\n",
      "Feature numerical_1_nunique_hist_y with pearson correlcation: -0.15014200617937745\n",
      "Feature numerical_1_mean_hist_y with pearson correlcation: 0.0032348462968371993\n",
      "Feature numerical_1_min_hist_y with pearson correlcation: 0.03789250324464386\n",
      "Feature numerical_1_max_hist_y with pearson correlcation: -0.0598265192360393\n",
      "Feature numerical_1_var_hist_y with pearson correlcation: -0.001503364151337879\n",
      "Feature numerical_1_skew_hist_y with pearson correlcation: -0.08382879985264417\n",
      "Feature numerical_1_sum_hist_y with pearson correlcation: -0.05066503073043295\n",
      "Feature numerical_2_nunique_hist_y with pearson correlcation: -0.14658983122596425\n",
      "Feature numerical_2_mean_hist_y with pearson correlcation: 0.0032496025927189125\n",
      "Feature numerical_2_min_hist_y with pearson correlcation: 0.03736130941334563\n",
      "Feature numerical_2_max_hist_y with pearson correlcation: -0.05982056399781371\n",
      "Feature numerical_2_var_hist_y with pearson correlcation: -0.0014787633313719244\n",
      "Feature numerical_2_skew_hist_y with pearson correlcation: -0.0840265912880627\n",
      "Feature numerical_2_sum_hist_y with pearson correlcation: -0.05033840067903948\n",
      "Feature card_id_size_hist_y with pearson correlcation: -0.12736510226137768\n",
      "Feature card_id_count_hist_y with pearson correlcation: -0.12736510226137768\n",
      "Feature authorized_flag_nunique_hist_y with pearson correlcation: -0.10997913832027767\n",
      "Feature category_3_nunique_hist_y with pearson correlcation: -0.062296716704356776\n",
      "Feature category_1_nunique_hist_y with pearson correlcation: -0.04333100368178585\n",
      "Feature merchant_category_id_nunique_hist_y with pearson correlcation: -0.1638753690377454\n",
      "Feature subsector_id_nunique_hist_y with pearson correlcation: -0.1718755944092595\n",
      "Feature merchant_id_nunique_hist_y with pearson correlcation: -0.1442291709550232\n",
      "Feature city_id_nunique_hist_y with pearson correlcation: -0.11730516350381008\n",
      "Feature state_id_nunique_hist_y with pearson correlcation: -0.09531158797180278\n",
      "Feature category_2_nunique_hist_y with pearson correlcation: -0.0838355984372746\n",
      "Feature most_recent_sales_range_nunique_hist_y with pearson correlcation: -0.17503369171796052\n",
      "Feature most_recent_purchases_range_nunique_hist_y with pearson correlcation: -0.1789758748772236\n",
      "Feature month_lag_nunique with pearson correlcation: -0.03934538424343967\n",
      "Feature month_lag_mean with pearson correlcation: -0.08099507261950348\n",
      "Feature month_lag_min with pearson correlcation: -0.028035212700470862\n",
      "Feature month_lag_max with pearson correlcation: -0.18893955765380843\n",
      "Feature month_lag_var with pearson correlcation: -0.015339222542170251\n",
      "Feature month_lag_skew with pearson correlcation: 0.03885243542373215\n",
      "Feature month_lag_sum with pearson correlcation: 0.014443907075677456\n",
      "Feature installments_nunique with pearson correlcation: -0.012248551252580595\n",
      "Feature installments_mean with pearson correlcation: 0.02193406995252508\n",
      "Feature installments_min with pearson correlcation: 0.021659193921643366\n",
      "Feature installments_max with pearson correlcation: -0.00345945237849113\n",
      "Feature installments_var with pearson correlcation: 0.014694369093851335\n",
      "Feature installments_skew with pearson correlcation: -0.03153221103859258\n",
      "Feature installments_sum with pearson correlcation: -0.021852065861414218\n",
      "Feature purchase_amount_nunique with pearson correlcation: -0.0557705022221162\n",
      "Feature purchase_amount_mean with pearson correlcation: 0.000326808620918659\n",
      "Feature purchase_amount_min with pearson correlcation: 0.008454414427502627\n",
      "Feature purchase_amount_max with pearson correlcation: 0.00011059212985538298\n",
      "Feature purchase_amount_var with pearson correlcation: 0.00013833196481820208\n",
      "Feature purchase_amount_skew with pearson correlcation: -0.05973210456046991\n",
      "Feature purchase_amount_sum with pearson correlcation: 0.0003563918776047474\n",
      "Feature numerical_1_nunique with pearson correlcation: -0.0795746254773411\n",
      "Feature numerical_1_mean with pearson correlcation: -0.005032763439685838\n",
      "Feature numerical_1_min with pearson correlcation: 0.004697255474677003\n",
      "Feature numerical_1_max with pearson correlcation: -0.037783104077737314\n",
      "Feature numerical_1_var with pearson correlcation: -0.007151797449383953\n",
      "Feature numerical_1_skew with pearson correlcation: -0.04099148024115333\n",
      "Feature numerical_1_sum with pearson correlcation: -0.024664552713259846\n",
      "Feature numerical_2_nunique with pearson correlcation: -0.07960295294109734\n",
      "Feature numerical_2_mean with pearson correlcation: -0.005023548740596075\n",
      "Feature numerical_2_min with pearson correlcation: 0.00454376637061566\n",
      "Feature numerical_2_max with pearson correlcation: -0.03780835107883479\n",
      "Feature numerical_2_var with pearson correlcation: -0.007145420117025058\n",
      "Feature numerical_2_skew with pearson correlcation: -0.039864642996939884\n",
      "Feature numerical_2_sum with pearson correlcation: -0.024569830851535246\n",
      "Feature card_id_size with pearson correlcation: -0.05304019190724095\n",
      "Feature card_id_count with pearson correlcation: -0.05304019190724095\n",
      "Feature authorized_flag_nunique with pearson correlcation: -0.06589940546472425\n",
      "Feature category_3_nunique with pearson correlcation: -0.017115007874001956\n",
      "Feature category_1_nunique with pearson correlcation: -0.011114647404161893\n",
      "Feature merchant_category_id_nunique with pearson correlcation: -0.08616884307728667\n",
      "Feature subsector_id_nunique with pearson correlcation: -0.09120250089880706\n",
      "Feature merchant_id_nunique with pearson correlcation: -0.07548827684450338\n",
      "Feature city_id_nunique with pearson correlcation: -0.05802119307528236\n",
      "Feature state_id_nunique with pearson correlcation: -0.043143877250105295\n",
      "Feature category_2_nunique with pearson correlcation: -0.03522734189328068\n",
      "Feature most_recent_sales_range_nunique with pearson correlcation: -0.06479714743588816\n",
      "Feature most_recent_purchases_range_nunique with pearson correlcation: -0.06704934491959108\n"
     ]
    }
   ],
   "source": [
    "from scipy.stats import pearsonr\n",
    "\n",
    "X_train = train.drop('card_id', axis=1)\n",
    "X_test = test\n",
    "\n",
    "X_centered = X_train.apply(lambda x: x - x.mean())\n",
    "for feature in features:\n",
    "    print(f'Feature {feature} with pearson correlcation: {pearsonr(X_centered[feature], X_centered[\"target\"])[0]}')"
   ],
   "metadata": {
    "collapsed": false,
    "pycharm": {
     "name": "#%%\n"
    }
   }
  },
  {
   "cell_type": "markdown",
   "source": [
    "The result presents above shows that many columns has a low correlation with our target.\n",
    "so we will set an appropriate dimensions to reduce the features columns"
   ],
   "metadata": {
    "collapsed": false,
    "pycharm": {
     "name": "#%% md\n"
    }
   }
  },
  {
   "cell_type": "code",
   "execution_count": 70,
   "outputs": [
    {
     "data": {
      "text/plain": "{'first_active_month': 0.005224044791547059,\n 'feature_1': 0.010884238458633256,\n 'feature_2': 0.0036065311368159952,\n 'feature_3': 0.007330298118724101,\n 'month_lag_nunique_hist_x': 0.008782863062287207,\n 'month_lag_mean_hist_x': 0.03833817276554955,\n 'month_lag_min_hist_x': 0.02803521270047124,\n 'month_lag_max_hist_x': 0.031797733173403675,\n 'month_lag_var_hist_x': 0.020122198307936195,\n 'month_lag_skew_hist_x': 0.01851368587257108,\n 'month_lag_sum_hist_x': 0.017347612030573677,\n 'installments_nunique_hist_x': 0.009186063201157349,\n 'installments_mean_hist_x': 0.025281670688762126,\n 'installments_min_hist_x': 0.003283281627196056,\n 'installments_max_hist_x': 0.013174162574504608,\n 'installments_var_hist_x': 0.023876356875117702,\n 'installments_skew_hist_x': 0.02254950272786105,\n 'installments_sum_hist_x': 0.010939218902732377,\n 'purchase_amount_nunique_hist_x': 0.034459357510949216,\n 'purchase_amount_mean_hist_x': 0.00017181771449204043,\n 'purchase_amount_min_hist_x': 0.00948302812822068,\n 'purchase_amount_max_hist_x': 0.0001830026831829714,\n 'purchase_amount_var_hist_x': 0.00013539700886300011,\n 'purchase_amount_skew_hist_x': 0.024450849688437262,\n 'purchase_amount_sum_hist_x': 0.00033824003080494514,\n 'numerical_1_nunique_hist_x': 0.03750277121756569,\n 'numerical_1_mean_hist_x': 0.00868196437720989,\n 'numerical_1_min_hist_x': 0.0032169318115127846,\n 'numerical_1_max_hist_x': 0.02441228240461713,\n 'numerical_1_var_hist_x': 0.009206404353262952,\n 'numerical_1_skew_hist_x': 0.019683187077076794,\n 'numerical_1_sum_hist_x': 0.01844330857946661,\n 'numerical_2_nunique_hist_x': 0.03822986429429454,\n 'numerical_2_mean_hist_x': 0.008666914343134552,\n 'numerical_2_min_hist_x': 0.003237623330162095,\n 'numerical_2_max_hist_x': 0.024430409522355027,\n 'numerical_2_var_hist_x': 0.009217872989704433,\n 'numerical_2_skew_hist_x': 0.018306112503656016,\n 'numerical_2_sum_hist_x': 0.018389620535603033,\n 'card_id_size_hist_x': 0.03385532512348642,\n 'card_id_count_hist_x': 0.03385532512348642,\n 'authorized_flag_nunique_hist_x': 0.014735786711705199,\n 'category_3_nunique_hist_x': 0.005047790357421295,\n 'category_1_nunique_hist_x': 0.0026790074839014295,\n 'merchant_category_id_nunique_hist_x': 0.03591388269390079,\n 'subsector_id_nunique_hist_x': 0.03702248506405787,\n 'merchant_id_nunique_hist_x': 0.03475612341598585,\n 'city_id_nunique_hist_x': 0.023648151641067344,\n 'state_id_nunique_hist_x': 0.012661126392517978,\n 'category_2_nunique_hist_x': 0.007882600479150953,\n 'most_recent_sales_range_nunique_hist_x': 0.02877671238951291,\n 'most_recent_purchases_range_nunique_hist_x': 0.028599174689334057,\n 'month_lag_nunique_hist_y': 0.2004579220966654,\n 'month_lag_mean_hist_y': 0.08526124438940133,\n 'month_lag_min_hist_y': 0.04152269307087722,\n 'month_lag_max_hist_y': 0.16499989058379533,\n 'month_lag_var_hist_y': 0.03292182949668698,\n 'month_lag_skew_hist_y': 0.05894572163519946,\n 'month_lag_sum_hist_y': 0.16907399714864954,\n 'installments_nunique_hist_y': 0.071735604817801,\n 'installments_mean_hist_y': 0.00646689418059645,\n 'installments_min_hist_y': 0.05221038975440571,\n 'installments_max_hist_y': 0.05984842077768362,\n 'installments_var_hist_y': 0.031121617002367985,\n 'installments_skew_hist_y': 0.036786460663011195,\n 'installments_sum_hist_y': 0.060497430322113306,\n 'purchase_amount_nunique_hist_y': 0.13215643039956385,\n 'purchase_amount_mean_hist_y': 0.003851102257037875,\n 'purchase_amount_min_hist_y': 0.004406147285906513,\n 'purchase_amount_max_hist_y': 0.002382371420866444,\n 'purchase_amount_var_hist_y': 0.001214110809928276,\n 'purchase_amount_skew_hist_y': 0.10644823048074356,\n 'purchase_amount_sum_hist_y': 0.0004040926007284625,\n 'numerical_1_nunique_hist_y': 0.15014200617937506,\n 'numerical_1_mean_hist_y': 0.003234846296837151,\n 'numerical_1_min_hist_y': 0.03789250324464496,\n 'numerical_1_max_hist_y': 0.059826519236040834,\n 'numerical_1_var_hist_y': 0.0015033641513378603,\n 'numerical_1_skew_hist_y': 0.08382879985264433,\n 'numerical_1_sum_hist_y': 0.05066503073043316,\n 'numerical_2_nunique_hist_y': 0.14658983122596542,\n 'numerical_2_mean_hist_y': 0.0032496025927189927,\n 'numerical_2_min_hist_y': 0.03736130941334508,\n 'numerical_2_max_hist_y': 0.0598205639978139,\n 'numerical_2_var_hist_y': 0.001478763331371949,\n 'numerical_2_skew_hist_y': 0.08402659128806388,\n 'numerical_2_sum_hist_y': 0.05033840067903947,\n 'card_id_size_hist_y': 0.1273651022613778,\n 'card_id_count_hist_y': 0.1273651022613778,\n 'authorized_flag_nunique_hist_y': 0.1099791383202776,\n 'category_3_nunique_hist_y': 0.06229671670435779,\n 'category_1_nunique_hist_y': 0.04333100368178489,\n 'merchant_category_id_nunique_hist_y': 0.16387536903774907,\n 'subsector_id_nunique_hist_y': 0.17187559440925754,\n 'merchant_id_nunique_hist_y': 0.1442291709550234,\n 'city_id_nunique_hist_y': 0.11730516350381028,\n 'state_id_nunique_hist_y': 0.09531158797180311,\n 'category_2_nunique_hist_y': 0.0838355984372746,\n 'most_recent_sales_range_nunique_hist_y': 0.17503369171796052,\n 'most_recent_purchases_range_nunique_hist_y': 0.1789758748772225,\n 'month_lag_nunique': 0.03934538424344034,\n 'month_lag_mean': 0.08099507261950502,\n 'month_lag_min': 0.02803521270047124,\n 'month_lag_max': 0.18893955765380818,\n 'month_lag_var': 0.015339222542170187,\n 'month_lag_skew': 0.038852435423732075,\n 'month_lag_sum': 0.014443907075677985,\n 'installments_nunique': 0.012248551252580548,\n 'installments_mean': 0.021934069952525,\n 'installments_min': 0.02165919392164301,\n 'installments_max': 0.0034594523784912097,\n 'installments_var': 0.014694369093851536,\n 'installments_skew': 0.031532211038593175,\n 'installments_sum': 0.021852065861414062,\n 'purchase_amount_nunique': 0.0557705022221155,\n 'purchase_amount_mean': 0.0003268086209186599,\n 'purchase_amount_min': 0.008454414427502286,\n 'purchase_amount_max': 0.00011059212985538412,\n 'purchase_amount_var': 0.00013833196481820894,\n 'purchase_amount_skew': 0.059732104560470456,\n 'purchase_amount_sum': 0.00035639187760474285,\n 'numerical_1_nunique': 0.07957462547734197,\n 'numerical_1_mean': 0.005032763439685953,\n 'numerical_1_min': 0.004697255474676961,\n 'numerical_1_max': 0.0377831040777372,\n 'numerical_1_var': 0.007151797449384154,\n 'numerical_1_skew': 0.040991480241152914,\n 'numerical_1_sum': 0.02466455271325957,\n 'numerical_2_nunique': 0.07960295294109557,\n 'numerical_2_mean': 0.0050235487405961236,\n 'numerical_2_min': 0.004543766370615688,\n 'numerical_2_max': 0.03780835107883538,\n 'numerical_2_var': 0.00714542011702515,\n 'numerical_2_skew': 0.03986464299694034,\n 'numerical_2_sum': 0.024569830851535534,\n 'card_id_size': 0.0530401919072412,\n 'card_id_count': 0.0530401919072412,\n 'authorized_flag_nunique': 0.06589940546472474,\n 'category_3_nunique': 0.01711500787400173,\n 'category_1_nunique': 0.011114647404161791,\n 'merchant_category_id_nunique': 0.08616884307728546,\n 'subsector_id_nunique': 0.09120250089880898,\n 'merchant_id_nunique': 0.07548827684450271,\n 'city_id_nunique': 0.05802119307528326,\n 'state_id_nunique': 0.043143877250104705,\n 'category_2_nunique': 0.035227341893280216,\n 'most_recent_sales_range_nunique': 0.06479714743588774,\n 'most_recent_purchases_range_nunique': 0.06704934491959269}"
     },
     "execution_count": 70,
     "metadata": {},
     "output_type": "execute_result"
    }
   ],
   "source": [
    "corr = {}\n",
    "\n",
    "# append absolute correlations with each feature, see pearson correlation above\n",
    "for fea in features:\n",
    "    corr[fea] = abs(train[[fea, 'target']].fillna(0).corr().values[0][1])\n",
    "\n",
    "corr"
   ],
   "metadata": {
    "collapsed": false,
    "pycharm": {
     "name": "#%%\n"
    }
   }
  },
  {
   "cell_type": "code",
   "execution_count": 71,
   "outputs": [
    {
     "data": {
      "text/plain": "['month_lag_nunique_hist_y',\n 'month_lag_max',\n 'most_recent_purchases_range_nunique_hist_y',\n 'most_recent_sales_range_nunique_hist_y',\n 'subsector_id_nunique_hist_y',\n 'month_lag_sum_hist_y',\n 'month_lag_max_hist_y',\n 'merchant_category_id_nunique_hist_y',\n 'numerical_1_nunique_hist_y',\n 'numerical_2_nunique_hist_y',\n 'merchant_id_nunique_hist_y',\n 'purchase_amount_nunique_hist_y',\n 'card_id_size_hist_y',\n 'card_id_count_hist_y',\n 'city_id_nunique_hist_y',\n 'authorized_flag_nunique_hist_y',\n 'purchase_amount_skew_hist_y',\n 'state_id_nunique_hist_y',\n 'subsector_id_nunique',\n 'merchant_category_id_nunique',\n 'month_lag_mean_hist_y',\n 'numerical_2_skew_hist_y',\n 'category_2_nunique_hist_y',\n 'numerical_1_skew_hist_y',\n 'month_lag_mean',\n 'numerical_2_nunique',\n 'numerical_1_nunique',\n 'merchant_id_nunique',\n 'installments_nunique_hist_y',\n 'most_recent_purchases_range_nunique',\n 'authorized_flag_nunique',\n 'most_recent_sales_range_nunique',\n 'category_3_nunique_hist_y',\n 'installments_sum_hist_y',\n 'installments_max_hist_y',\n 'numerical_1_max_hist_y',\n 'numerical_2_max_hist_y',\n 'purchase_amount_skew',\n 'month_lag_skew_hist_y',\n 'city_id_nunique',\n 'purchase_amount_nunique',\n 'card_id_size',\n 'card_id_count',\n 'installments_min_hist_y',\n 'numerical_1_sum_hist_y',\n 'numerical_2_sum_hist_y',\n 'category_1_nunique_hist_y',\n 'state_id_nunique',\n 'month_lag_min_hist_y',\n 'numerical_1_skew',\n 'numerical_2_skew',\n 'month_lag_nunique',\n 'month_lag_skew',\n 'month_lag_mean_hist_x',\n 'numerical_2_nunique_hist_x',\n 'numerical_1_min_hist_y',\n 'numerical_2_max',\n 'numerical_1_max',\n 'numerical_1_nunique_hist_x',\n 'numerical_2_min_hist_y',\n 'subsector_id_nunique_hist_x',\n 'installments_skew_hist_y',\n 'merchant_category_id_nunique_hist_x',\n 'category_2_nunique',\n 'merchant_id_nunique_hist_x',\n 'purchase_amount_nunique_hist_x',\n 'card_id_size_hist_x',\n 'card_id_count_hist_x',\n 'month_lag_var_hist_y',\n 'month_lag_max_hist_x',\n 'installments_skew',\n 'installments_var_hist_y',\n 'most_recent_sales_range_nunique_hist_x',\n 'most_recent_purchases_range_nunique_hist_x',\n 'month_lag_min_hist_x',\n 'month_lag_min',\n 'installments_mean_hist_x',\n 'numerical_1_sum',\n 'numerical_2_sum',\n 'purchase_amount_skew_hist_x',\n 'numerical_2_max_hist_x',\n 'numerical_1_max_hist_x',\n 'installments_var_hist_x',\n 'city_id_nunique_hist_x',\n 'installments_skew_hist_x',\n 'installments_mean',\n 'installments_sum',\n 'installments_min',\n 'month_lag_var_hist_x',\n 'numerical_1_skew_hist_x',\n 'month_lag_skew_hist_x',\n 'numerical_1_sum_hist_x',\n 'numerical_2_sum_hist_x',\n 'numerical_2_skew_hist_x',\n 'month_lag_sum_hist_x',\n 'category_3_nunique',\n 'month_lag_var',\n 'authorized_flag_nunique_hist_x',\n 'installments_var',\n 'month_lag_sum']"
     },
     "execution_count": 71,
     "metadata": {},
     "output_type": "execute_result"
    }
   ],
   "source": [
    "corr = {k: v for k, v in sorted(corr.items(), key=lambda item: item[1], reverse=True)}\n",
    "featuresSelect = list(corr.keys())[:100]\n",
    "\n",
    "# use first 100 most significant keys\n",
    "featuresSelect"
   ],
   "metadata": {
    "collapsed": false,
    "pycharm": {
     "name": "#%%\n"
    }
   }
  },
  {
   "cell_type": "code",
   "execution_count": 72,
   "outputs": [],
   "source": [
    "from lama.util.decorators import enable_logging\n",
    "\n",
    "@enable_logging(\"param_grid_search.log\")\n",
    "def param_grid_search(X_train, features, parameter_space, y_target, X_test, filename):\n",
    "    \"\"\"\n",
    "    Grid Search Optimizer\n",
    "\n",
    "    Returns: best_parameters\n",
    "\n",
    "    \"\"\"\n",
    "\n",
    "    logger.info(\"Creating Grid Search\")\n",
    "    assert features is not None and 'card_id' not in features and 'target' not in features\n",
    "\n",
    "    # Tuning hyper-parameters for mse\n",
    "    clf = RandomForestRegressor(\n",
    "        criterion= 'squared_error',\n",
    "        n_jobs= 15,\n",
    "        random_state= 22\n",
    "    )\n",
    "\n",
    "    grid = GridSearchCV(clf, parameter_space, cv=2, scoring='neg_mean_squared_error')\n",
    "    grid.fit(X_train[features].values, y_target.values)\n",
    "\n",
    "    logger.info(\"grid fit completes\")\n",
    "\n",
    "    logger.debug(\"Best parameters:\")\n",
    "    logger.debug(grid.best_params_)\n",
    "\n",
    "    means = grid.cv_results_[\"mean_test_score\"]\n",
    "    stds = grid.cv_results_[\"std_test_score\"]\n",
    "    params = grid.cv_results_[\"params\"]\n",
    "\n",
    "    # check different value in cv validation\n",
    "    for mean, std, param in means, stds, params:\n",
    "        msg = \"%0.03f (+/-%0.03f) for %r\" %(mean, std, param)\n",
    "        logger.debug(msg)\n",
    "\n",
    "    # write to hyperparameters\n",
    "    logger.info(\"Write to files\")\n",
    "\n",
    "    best_score = np.sqrt(-grid.best_score_)\n",
    "    _result = \\\n",
    "    {\n",
    "        \"model\": \"RandomForestRegressor\",\n",
    "        \"best_params\": grid.best_params_,\n",
    "        \"best_score\": best_score,\n",
    "    }\n",
    "\n",
    "    X_test['target'] = grid.best_estimator_.predict(X_test[features])\n",
    "\n",
    "    import json\n",
    "\n",
    "    RESULT_DIR = os.path.join(DATA_DIR, \"result\")\n",
    "    X_test[['card_id', 'target']].to_csv(os.path.join(RESULT_DIR, filename), index=False)\n",
    "\n",
    "    with open(os.path.join(RESULT_DIR, \"hyperparameters\"), \"a\") as file:\n",
    "        file.write(json.dumps(_result) + \"\\n\")\n",
    "\n",
    "    return grid"
   ],
   "metadata": {
    "collapsed": false,
    "pycharm": {
     "name": "#%%\n"
    }
   }
  },
  {
   "cell_type": "code",
   "execution_count": null,
   "outputs": [
    {
     "name": "stderr",
     "output_type": "stream",
     "text": [
      "2022-02-03 20:09:14,763 - root - INFO - Entering into the function param_grid_search.\n",
      "2022-02-03 20:09:14,766 - root - INFO - Creating Grid Search\n",
      "/opt/anaconda3/envs/lama/lib/python3.7/site-packages/sklearn/ensemble/_forest.py:392: FutureWarning: Criterion 'mse' was deprecated in v1.0 and will be removed in version 1.2. Use `criterion='squared_error'` which is equivalent.\n",
      "  FutureWarning,\n",
      "/opt/anaconda3/envs/lama/lib/python3.7/site-packages/sklearn/ensemble/_forest.py:392: FutureWarning: Criterion 'mse' was deprecated in v1.0 and will be removed in version 1.2. Use `criterion='squared_error'` which is equivalent.\n",
      "  FutureWarning,\n",
      "/opt/anaconda3/envs/lama/lib/python3.7/site-packages/sklearn/ensemble/_forest.py:392: FutureWarning: Criterion 'mse' was deprecated in v1.0 and will be removed in version 1.2. Use `criterion='squared_error'` which is equivalent.\n",
      "  FutureWarning,\n",
      "/opt/anaconda3/envs/lama/lib/python3.7/site-packages/sklearn/ensemble/_forest.py:392: FutureWarning: Criterion 'mse' was deprecated in v1.0 and will be removed in version 1.2. Use `criterion='squared_error'` which is equivalent.\n",
      "  FutureWarning,\n",
      "/opt/anaconda3/envs/lama/lib/python3.7/site-packages/sklearn/ensemble/_forest.py:392: FutureWarning: Criterion 'mse' was deprecated in v1.0 and will be removed in version 1.2. Use `criterion='squared_error'` which is equivalent.\n",
      "  FutureWarning,\n",
      "/opt/anaconda3/envs/lama/lib/python3.7/site-packages/sklearn/ensemble/_forest.py:392: FutureWarning: Criterion 'mse' was deprecated in v1.0 and will be removed in version 1.2. Use `criterion='squared_error'` which is equivalent.\n",
      "  FutureWarning,\n",
      "/opt/anaconda3/envs/lama/lib/python3.7/site-packages/sklearn/ensemble/_forest.py:392: FutureWarning: Criterion 'mse' was deprecated in v1.0 and will be removed in version 1.2. Use `criterion='squared_error'` which is equivalent.\n",
      "  FutureWarning,\n",
      "/opt/anaconda3/envs/lama/lib/python3.7/site-packages/sklearn/ensemble/_forest.py:392: FutureWarning: Criterion 'mse' was deprecated in v1.0 and will be removed in version 1.2. Use `criterion='squared_error'` which is equivalent.\n",
      "  FutureWarning,\n",
      "/opt/anaconda3/envs/lama/lib/python3.7/site-packages/sklearn/ensemble/_forest.py:392: FutureWarning: Criterion 'mse' was deprecated in v1.0 and will be removed in version 1.2. Use `criterion='squared_error'` which is equivalent.\n",
      "  FutureWarning,\n",
      "/opt/anaconda3/envs/lama/lib/python3.7/site-packages/sklearn/ensemble/_forest.py:392: FutureWarning: Criterion 'mse' was deprecated in v1.0 and will be removed in version 1.2. Use `criterion='squared_error'` which is equivalent.\n",
      "  FutureWarning,\n"
     ]
    }
   ],
   "source": [
    "PARAMETER_SPACE = {\n",
    "    \"n_estimators\": [9, 19, 29],\n",
    "    \"min_samples_leaf\": [4, 9, 14],\n",
    "    \"min_samples_split\": [2, 10, 20, 30],\n",
    "    \"max_depth\": [9, 19, 29],\n",
    "    \"max_features\": [\"auto\", 80]\n",
    "}\n",
    "\n",
    "counter = 0\n",
    "\n",
    "filename = f'sample {counter}'\n",
    "\n",
    "counter+=1\n",
    "\n",
    "param_grid_search(X_train, featuresSelect, PARAMETER_SPACE, X_train['target'], X_test, filename)"
   ],
   "metadata": {
    "collapsed": false,
    "pycharm": {
     "name": "#%%\n",
     "is_executing": true
    }
   }
  },
  {
   "cell_type": "code",
   "execution_count": null,
   "outputs": [],
   "source": [],
   "metadata": {
    "collapsed": false,
    "pycharm": {
     "name": "#%%\n"
    }
   }
  }
 ],
 "metadata": {
  "interpreter": {
   "hash": "ccbb4ca7fe902b23c4d3bf398cc69bd54ad114cdf2cf797081a3177c4f0863aa"
  },
  "kernelspec": {
   "display_name": "Python 3.9.9 64-bit ('lama_gpu': conda)",
   "language": "python",
   "name": "python3"
  },
  "language_info": {
   "codemirror_mode": {
    "name": "ipython",
    "version": 3
   },
   "file_extension": ".py",
   "mimetype": "text/x-python",
   "name": "python",
   "nbconvert_exporter": "python",
   "pygments_lexer": "ipython3",
   "version": "3.9.9"
  },
  "orig_nbformat": 4
 },
 "nbformat": 4,
 "nbformat_minor": 2
}